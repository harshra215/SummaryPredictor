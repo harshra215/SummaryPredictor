{
 "cells": [
  {
   "cell_type": "code",
   "execution_count": 1,
   "id": "7d361a9d",
   "metadata": {},
   "outputs": [
    {
     "name": "stdout",
     "output_type": "stream",
     "text": [
      "Enter something here:Morena, Madhya Pradesh: Reacting to cross-voting by six Congress MLAs in Himachal Pradesh in the recently concluded Rajya Sabha elections, Digvijaya Singh on Friday said that appropriate action will be taken against them at the right time. Congress MP Digvijay Singh (HT File Photo)\"Action will be taken against rebellions at the right time,\" Digvijay Singh said while speaking to reporters in Morena. READ | Cross-voting dominates Rajya Sabha electionsThe six Congress MLAs involved in the cross-voting are: Sudhir Sharma, Rajinder Rana, Davinder K Bhutto, Ravi Thakur, Chaitanya Sharma, and Inder Dutt Lakhanpal. The crisis confronting the Congress government in Himachal Pradesh highlighted the division within the state's Congress party, with one faction headed by Chief Minister Sukhvinder Singh Sukhu and the other by Pratibha Singh, the president of Himachal Pradesh Congress and widow of the six-time chief minister Virbhadra Singh. Regarding the disqualification of MLAs, Singh remarked that it would influence the forthcoming Lok Sabha elections in 2024.\n"
     ]
    }
   ],
   "source": [
    "import gtts\n",
    "import playsound\n",
    "\n",
    "text = input(\"Enter something here:\")\n",
    "sound = gtts.gTTS(text,lang=\"en\")\n",
    "sound.save(\"welcome.mp3\")\n",
    "playsound.playsound(\"welcome.mp3\")"
   ]
  },
  {
   "cell_type": "code",
   "execution_count": null,
   "id": "827785f9",
   "metadata": {},
   "outputs": [],
   "source": []
  }
 ],
 "metadata": {
  "kernelspec": {
   "display_name": "Python 3 (ipykernel)",
   "language": "python",
   "name": "python3"
  },
  "language_info": {
   "codemirror_mode": {
    "name": "ipython",
    "version": 3
   },
   "file_extension": ".py",
   "mimetype": "text/x-python",
   "name": "python",
   "nbconvert_exporter": "python",
   "pygments_lexer": "ipython3",
   "version": "3.11.5"
  }
 },
 "nbformat": 4,
 "nbformat_minor": 5
}
